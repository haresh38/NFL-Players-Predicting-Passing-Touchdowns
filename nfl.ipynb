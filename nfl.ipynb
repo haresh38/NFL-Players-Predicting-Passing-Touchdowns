import pandas as pd
from sklearn.model_selection import train_test_split
from sklearn.ensemble import RandomForestClassifier
from sklearn.preprocessing import OneHotEncoder
from sklearn.impute import SimpleImputer
from sklearn.pipeline import Pipeline
from sklearn.compose import ColumnTransformer
from sklearn.metrics import accuracy_score

# Load the data
d = pd.read_csv('nfl_offensive_stats.csv')

# Replace commas in 'stadium_capacity'
#data['stadium_capacity'] = data['stadium_capacity'].replace({',': ''}, regex=True).astype(float)

# Define preprocessing pipelines
numeric_features = ['pass_yds', 'pass_att', 'rush_yds']
numeric_transformer = Pipeline(steps=[
    ('imputer', SimpleImputer(strategy='median'))])

# Categorical features including 'stadium_weather_type'
categorical_features = ['player_id', 'player', 'team', 'Opponent_abbrev']
categorical_transformer = Pipeline(steps=[
    ('imputer', SimpleImputer(strategy='constant', fill_value='missing')),
    ('onehot', OneHotEncoder(handle_unknown='ignore'))])

# Column transformer with separate treatment for numeric and categorical features
preprocessor = ColumnTransformer(
    transformers=[
        ('num', numeric_transformer, numeric_features),
        ('cat', categorical_transformer, categorical_features)])

# Append classifier to preprocessing pipeline
clf = Pipeline(steps=[('preprocessor', preprocessor),
                      ('classifier', RandomForestClassifier())])

# Split the data into features (X) and target (y)
X = d.drop('pass_td', axis=1)
y = d['pass_td']

# Split the data into training and test sets
X_train, X_test, y_train, y_test = train_test_split(X, y, test_size=0.2, random_state=42)

# Fit the model
clf.fit(X_train, y_train)

# Predict the test set results
yPred = clf.predict(X_test)

# Calculate the accuracy of the model
accuracy = accuracy_score(y_test, yPred)

print(f"Model Accuracy: {accuracy}")
